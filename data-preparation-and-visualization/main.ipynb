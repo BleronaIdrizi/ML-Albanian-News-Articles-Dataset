{
 "cells": [
  {
   "cell_type": "markdown",
   "metadata": {},
   "source": [
    "# Kosova News Articles"
   ]
  },
  {
   "cell_type": "markdown",
   "metadata": {},
   "source": [
    "// Fill this @Ariana"
   ]
  },
  {
   "cell_type": "markdown",
   "metadata": {},
   "source": [
    "## Libraritë e përdorura"
   ]
  },
  {
   "cell_type": "code",
   "execution_count": 4,
   "metadata": {},
   "outputs": [],
   "source": [
    "import pandas as pd\n",
    "import seaborn as sns\n",
    "import numpy as np\n",
    "import matplotlib.pyplot as plt\n",
    "import gzip\n",
    "from sklearn.cluster import KMeans\n",
    "from scipy.spatial.distance import cdist\n",
    "import plotly.express as px\n",
    "from sklearn.cluster import DBSCAN\n",
    "from scipy import stats\n",
    "from sklearn.ensemble import RandomForestClassifier\n",
    "from sklearn.model_selection import train_test_split\n",
    "from sklearn.metrics import accuracy_score,confusion_matrix\n",
    "from sklearn.neighbors import NearestNeighbors\n",
    "from sklearn.impute import SimpleImputer\n",
    "from imblearn.over_sampling import SMOTE\n",
    "from sklearn.preprocessing import StandardScaler, LabelEncoder\n",
    "from bokeh.plotting import figure, show, output_notebook\n",
    "from bokeh.models import ColumnDataSource, HoverTool\n",
    "from bokeh.transform import dodge\n",
    "import altair as alt"
   ]
  },
  {
   "cell_type": "markdown",
   "metadata": {},
   "source": [
    "## Konstantet e përdorura"
   ]
  },
  {
   "cell_type": "code",
   "execution_count": 5,
   "metadata": {},
   "outputs": [],
   "source": [
    "# Përcaktimi i ngjyrave për ti paraqitur në statistika.\n",
    "colors = [\"#89CFF0\", \"#FF69B4\", \"#FFD700\", \"#7B68EE\", \"#FF4500\",\n",
    "          \"#9370DB\", \"#32CD32\", \"#8A2BE2\", \"#FF6347\", \"#20B2AA\",\n",
    "          \"#FF69B4\", \"#00CED1\", \"#FF7F50\", \"#7FFF00\", \"#DA70D6\"]\n",
    "categorical_columns = ['content', 'date', 'title', 'category', 'author', 'source']"
   ]
  },
  {
   "cell_type": "markdown",
   "metadata": {},
   "source": [
    "## Metodat ndihmëse"
   ]
  },
  {
   "cell_type": "code",
   "execution_count": 6,
   "metadata": {},
   "outputs": [],
   "source": [
    "# Funksioni për të hedhur një vështrim në rreshtat e parë të dataset-it.\n",
    "def printo_datasetin(text, df):\n",
    "    print(\"\\n\" + text + \":\")\n",
    "    display(df.head())\n"
   ]
  },
  {
   "cell_type": "markdown",
   "metadata": {},
   "source": [
    "## Leximi i dataset-it"
   ]
  },
  {
   "cell_type": "code",
   "execution_count": 34,
   "metadata": {},
   "outputs": [],
   "source": [
    "# Leximi i dataset-it\n",
    "df = pd.read_csv(\"files/Kosovo_News_Articles.csv\")\n",
    "# new_df = pd.read_csv(\"../files/Preprocessed_Kosovo_News_Articles_Dataset.csv\")"
   ]
  },
  {
   "cell_type": "markdown",
   "metadata": {},
   "source": [
    "## Kualiteti i të dhënave "
   ]
  },
  {
   "cell_type": "markdown",
   "metadata": {},
   "source": [
    "- Struktura e bazës së të dhënave"
   ]
  },
  {
   "cell_type": "code",
   "execution_count": 8,
   "metadata": {},
   "outputs": [
    {
     "name": "stdout",
     "output_type": "stream",
     "text": [
      "\n",
      "Dataset-i:\n"
     ]
    },
    {
     "data": {
      "text/html": [
       "<div>\n",
       "<style scoped>\n",
       "    .dataframe tbody tr th:only-of-type {\n",
       "        vertical-align: middle;\n",
       "    }\n",
       "\n",
       "    .dataframe tbody tr th {\n",
       "        vertical-align: top;\n",
       "    }\n",
       "\n",
       "    .dataframe thead th {\n",
       "        text-align: right;\n",
       "    }\n",
       "</style>\n",
       "<table border=\"1\" class=\"dataframe\">\n",
       "  <thead>\n",
       "    <tr style=\"text-align: right;\">\n",
       "      <th></th>\n",
       "      <th>content</th>\n",
       "      <th>date</th>\n",
       "      <th>title</th>\n",
       "      <th>category</th>\n",
       "      <th>author</th>\n",
       "      <th>source</th>\n",
       "    </tr>\n",
       "  </thead>\n",
       "  <tbody>\n",
       "    <tr>\n",
       "      <th>0</th>\n",
       "      <td>Kur Beatrice Borromeo u martua me Pierre Casir...</td>\n",
       "      <td>2021-08-26 12:24:57</td>\n",
       "      <td>As Kate as Meghan; ja cila është princesha më ...</td>\n",
       "      <td>Fun;Argëtim</td>\n",
       "      <td>Donika Gjoni</td>\n",
       "      <td>Lajmi</td>\n",
       "    </tr>\n",
       "    <tr>\n",
       "      <th>1</th>\n",
       "      <td>Gjatë kontrollit të automjetit zyrtarët polico...</td>\n",
       "      <td>2021-08-26 12:14:38</td>\n",
       "      <td>I kapen 10 kg substanca narkotike në BMW X5, a...</td>\n",
       "      <td>Lajme;Nacionale</td>\n",
       "      <td>Flutura Toplana</td>\n",
       "      <td>Lajmi</td>\n",
       "    </tr>\n",
       "    <tr>\n",
       "      <th>2</th>\n",
       "      <td>Së fundmi Real Madrid dërgoi një ofertë 160 mi...</td>\n",
       "      <td>2021-08-26 12:14:00</td>\n",
       "      <td>E fundit, Mbappe mund të zyrtarizohet nesër te...</td>\n",
       "      <td>La Liga;Lajme futbolli;Sport</td>\n",
       "      <td>Muhamet Mehmeti</td>\n",
       "      <td>Lajmi</td>\n",
       "    </tr>\n",
       "    <tr>\n",
       "      <th>3</th>\n",
       "      <td>Enca Haxhia njihet si një ndër këngëtaret më s...</td>\n",
       "      <td>2021-08-26 12:13:58</td>\n",
       "      <td>Enca e quan jetë pushimin në plazh me poza në ...</td>\n",
       "      <td>nan;Entertainment</td>\n",
       "      <td>Fjolla Gashi</td>\n",
       "      <td>Lajmi</td>\n",
       "    </tr>\n",
       "    <tr>\n",
       "      <th>4</th>\n",
       "      <td>Gurët në veshka janë depozitime minerale që fo...</td>\n",
       "      <td>2021-08-26 12:07:45</td>\n",
       "      <td>Gurët në veshka – Kurat natyrale dhe si t’i pë...</td>\n",
       "      <td>Lifestyle;Shëndeti</td>\n",
       "      <td>Donika Gjoni</td>\n",
       "      <td>Lajmi</td>\n",
       "    </tr>\n",
       "  </tbody>\n",
       "</table>\n",
       "</div>"
      ],
      "text/plain": [
       "                                             content                 date   \n",
       "0  Kur Beatrice Borromeo u martua me Pierre Casir...  2021-08-26 12:24:57  \\\n",
       "1  Gjatë kontrollit të automjetit zyrtarët polico...  2021-08-26 12:14:38   \n",
       "2  Së fundmi Real Madrid dërgoi një ofertë 160 mi...  2021-08-26 12:14:00   \n",
       "3  Enca Haxhia njihet si një ndër këngëtaret më s...  2021-08-26 12:13:58   \n",
       "4  Gurët në veshka janë depozitime minerale që fo...  2021-08-26 12:07:45   \n",
       "\n",
       "                                               title   \n",
       "0  As Kate as Meghan; ja cila është princesha më ...  \\\n",
       "1  I kapen 10 kg substanca narkotike në BMW X5, a...   \n",
       "2  E fundit, Mbappe mund të zyrtarizohet nesër te...   \n",
       "3  Enca e quan jetë pushimin në plazh me poza në ...   \n",
       "4  Gurët në veshka – Kurat natyrale dhe si t’i pë...   \n",
       "\n",
       "                       category           author source  \n",
       "0                   Fun;Argëtim     Donika Gjoni  Lajmi  \n",
       "1               Lajme;Nacionale  Flutura Toplana  Lajmi  \n",
       "2  La Liga;Lajme futbolli;Sport  Muhamet Mehmeti  Lajmi  \n",
       "3             nan;Entertainment     Fjolla Gashi  Lajmi  \n",
       "4            Lifestyle;Shëndeti     Donika Gjoni  Lajmi  "
      ]
     },
     "metadata": {},
     "output_type": "display_data"
    }
   ],
   "source": [
    "# Shfaqja e dataseti-it\n",
    "printo_datasetin(\"Dataset-i\", df)"
   ]
  },
  {
   "cell_type": "markdown",
   "metadata": {},
   "source": [
    "- Njohuri mbi llojet e të dhënave"
   ]
  },
  {
   "cell_type": "code",
   "execution_count": 9,
   "metadata": {},
   "outputs": [
    {
     "name": "stdout",
     "output_type": "stream",
     "text": [
      "<class 'pandas.core.frame.DataFrame'>\n",
      "RangeIndex: 2593450 entries, 0 to 2593449\n",
      "Data columns (total 6 columns):\n",
      " #   Column    Dtype \n",
      "---  ------    ----- \n",
      " 0   content   object\n",
      " 1   date      object\n",
      " 2   title     object\n",
      " 3   category  object\n",
      " 4   author    object\n",
      " 5   source    object\n",
      "dtypes: object(6)\n",
      "memory usage: 118.7+ MB\n"
     ]
    }
   ],
   "source": [
    "# Për të fituar njohuri mbi llojet e të dhënave ekzekutojmë këtë komandë:\n",
    "df.info()"
   ]
  },
  {
   "cell_type": "markdown",
   "metadata": {},
   "source": [
    "- Kontrollimi i vlerave null"
   ]
  },
  {
   "cell_type": "code",
   "execution_count": 10,
   "metadata": {},
   "outputs": [
    {
     "data": {
      "text/plain": [
       "content     10409\n",
       "date            2\n",
       "title           0\n",
       "category    26551\n",
       "author       8577\n",
       "source          0\n",
       "dtype: int64"
      ]
     },
     "execution_count": 10,
     "metadata": {},
     "output_type": "execute_result"
    }
   ],
   "source": [
    "# Komanda për kontrollimin e vlerave null:\n",
    "df.isnull().sum()"
   ]
  },
  {
   "cell_type": "markdown",
   "metadata": {},
   "source": [
    "- Trajtimi i vlerave null"
   ]
  },
  {
   "cell_type": "code",
   "execution_count": 11,
   "metadata": {},
   "outputs": [
    {
     "name": "stdout",
     "output_type": "stream",
     "text": [
      "content     0\n",
      "date        0\n",
      "title       0\n",
      "category    0\n",
      "author      0\n",
      "source      0\n",
      "dtype: int64\n"
     ]
    }
   ],
   "source": [
    "# Fshirja e rreshtave me vlera null në kolonat me vlera null\n",
    "new_df = df.dropna(subset=['content', 'date', 'title', 'category', 'author', 'source'])\n",
    "\n",
    "# Shfaqja e dataseti-it të modifikuar\n",
    "print(new_df.isnull().sum())"
   ]
  },
  {
   "cell_type": "markdown",
   "metadata": {},
   "source": [
    "- Kërkimi i duplikatëve"
   ]
  },
  {
   "cell_type": "code",
   "execution_count": 12,
   "metadata": {},
   "outputs": [
    {
     "name": "stdout",
     "output_type": "stream",
     "text": [
      "Duplikatet: 613866\n"
     ]
    }
   ],
   "source": [
    "# Komanda për kërkimin e duplikateve dhe shfaqja e rezultatit\n",
    "print(\"Duplikatet: \" + str(df.duplicated().sum()))"
   ]
  },
  {
   "cell_type": "code",
   "execution_count": 13,
   "metadata": {},
   "outputs": [
    {
     "name": "stderr",
     "output_type": "stream",
     "text": [
      "C:\\Users\\arian\\AppData\\Local\\Temp\\ipykernel_20880\\48989597.py:2: SettingWithCopyWarning: \n",
      "A value is trying to be set on a copy of a slice from a DataFrame\n",
      "\n",
      "See the caveats in the documentation: https://pandas.pydata.org/pandas-docs/stable/user_guide/indexing.html#returning-a-view-versus-a-copy\n",
      "  new_df.drop_duplicates(['content', 'date', 'title', 'category', 'author', 'source'],\n"
     ]
    },
    {
     "name": "stdout",
     "output_type": "stream",
     "text": [
      "Duplikatet: 0\n"
     ]
    }
   ],
   "source": [
    "# ----------- Fshirja e duplikateve -----------\n",
    "new_df.drop_duplicates(['content', 'date', 'title', 'category', 'author', 'source'], \n",
    "                   keep='first', inplace=True)\n",
    "\n",
    "# Kërkimi përsëri i duplikateve dhe shfaqja e rezultatit\n",
    "print(\"Duplikatet: \" + str(new_df.duplicated().sum()))"
   ]
  },
  {
   "cell_type": "markdown",
   "metadata": {},
   "source": [
    "#### Trajtimi i vlerave NAN "
   ]
  },
  {
   "cell_type": "code",
   "execution_count": 35,
   "metadata": {},
   "outputs": [
    {
     "name": "stdout",
     "output_type": "stream",
     "text": [
      "Numri i qelive me vlerë NAN në kolonën 'content' është: 10409\n",
      "Numri i qelive me vlerë NAN në kolonën 'category' është: 26551\n",
      "Numri i qelive me vlerë NAN në kolonën 'date' është: 2\n",
      "Numri i qelive me vlerë NAN në kolonën 'title' është: 0\n",
      "Numri i qelive me vlerë NAN në kolonën 'author' është: 8577\n",
      "Numri i qelive me vlerë NAN në kolonën 'source' është: 0\n"
     ]
    }
   ],
   "source": [
    "\n",
    "# Lista e emrave të kolonave për të kontrolluar numrin e NaN vlerave\n",
    "columns_to_check = [\"content\", \"category\", \"date\", \"title\", \"author\", \"source\"]\n",
    "\n",
    "# Përdorimi i një cikli për të llogaritur numrin e NaN vlerave për secilën kolonë\n",
    "for column in columns_to_check:\n",
    "    nan_count = df[column].isna().sum()\n",
    "    print(f\"Numri i qelive me vlerë NAN në kolonën '{column}' është: {nan_count}\")\n"
   ]
  },
  {
   "cell_type": "code",
   "execution_count": 26,
   "metadata": {},
   "outputs": [],
   "source": [
    "\n",
    "# Fshirja e rreshtave që përmbajnë vlera NaN\n",
    "df = df.dropna(axis=0, how='any')"
   ]
  },
  {
   "cell_type": "code",
   "execution_count": 33,
   "metadata": {},
   "outputs": [
    {
     "name": "stdout",
     "output_type": "stream",
     "text": [
      "Pas pastrimit të vlerave NAN\n",
      "Numri i qelive me vlerë NAN në kolonën 'content' është: 0\n",
      "Numri i qelive me vlerë NAN në kolonën 'category' është: 0\n",
      "Numri i qelive me vlerë NAN në kolonën 'date' është: 0\n",
      "Numri i qelive me vlerë NAN në kolonën 'title' është: 0\n",
      "Numri i qelive me vlerë NAN në kolonën 'author' është: 0\n",
      "Numri i qelive me vlerë NAN në kolonën 'source' është: 0\n"
     ]
    }
   ],
   "source": [
    "\n",
    "# Lista e emrave të kolonave për të kontrolluar numrin e NaN vlerave\n",
    "columns_to_check = [\"content\", \"category\", \"date\", \"title\", \"author\", \"source\"]\n",
    "\n",
    "# Përdorimi i një cikli për të llogaritur numrin e NaN vlerave për secilën kolonë\n",
    "print(\"Pas pastrimit të vlerave NaN\")\n",
    "for column in columns_to_check:\n",
    "    nan_count = df[column].isna().sum()\n",
    "    print(f\"Numri i qelive me vlerë NaN në kolonën '{column}' është: {nan_count}\")"
   ]
  },
  {
   "cell_type": "markdown",
   "metadata": {},
   "source": [
    "### Agregimi"
   ]
  },
  {
   "cell_type": "code",
   "execution_count": 30,
   "metadata": {},
   "outputs": [
    {
     "name": "stdout",
     "output_type": "stream",
     "text": [
      "category\n",
      "Lajme                                                                                   429253\n",
      "Kosovë                                                                                  154484\n",
      "Sport                                                                                    96122\n",
      "nan;Entertainment                                                                        92753\n",
      "Lajme;Nacionale                                                                          92184\n",
      "                                                                                         ...  \n",
      "Loredana në studio për projektin e ri                                                        1\n",
      "Rina Balaj fotografohet e zhveshur në vaskë                                                  1\n",
      "Qalaj paralajmëron mbylljen e lokaleve që nuk respektojnë masat kundër COVID-19              1\n",
      "Albulena Haxhiu thotë se s’ka dialog me Serbinë pa zgjedhje demokratike paraprakisht         1\n",
      "Lista                                                                                        1\n",
      "Name: count, Length: 196273, dtype: int64\n"
     ]
    }
   ],
   "source": [
    "category_counts = df['category'].value_counts()\n",
    "\n",
    "# Display the counts for each category\n",
    "print(category_counts)"
   ]
  },
  {
   "cell_type": "markdown",
   "metadata": {},
   "source": [
    "### Krijimi i nënbashkësive"
   ]
  },
  {
   "cell_type": "code",
   "execution_count": 29,
   "metadata": {},
   "outputs": [
    {
     "name": "stdout",
     "output_type": "stream",
     "text": [
      "                                               title   \n",
      "0  As Kate as Meghan; ja cila është princesha më ...  \\\n",
      "1  I kapen 10 kg substanca narkotike në BMW X5, a...   \n",
      "2  E fundit, Mbappe mund të zyrtarizohet nesër te...   \n",
      "3  Enca e quan jetë pushimin në plazh me poza në ...   \n",
      "4  Gurët në veshka – Kurat natyrale dhe si t’i pë...   \n",
      "\n",
      "                                             content   \n",
      "0  Kur Beatrice Borromeo u martua me Pierre Casir...  \\\n",
      "1  Gjatë kontrollit të automjetit zyrtarët polico...   \n",
      "2  Së fundmi Real Madrid dërgoi një ofertë 160 mi...   \n",
      "3  Enca Haxhia njihet si një ndër këngëtaret më s...   \n",
      "4  Gurët në veshka janë depozitime minerale që fo...   \n",
      "\n",
      "                       category  \n",
      "0                   Fun;Argëtim  \n",
      "1               Lajme;Nacionale  \n",
      "2  La Liga;Lajme futbolli;Sport  \n",
      "3             nan;Entertainment  \n",
      "4            Lifestyle;Shëndeti  \n"
     ]
    }
   ],
   "source": [
    "\n",
    "selected_columns = ['title', 'content', 'category']\n",
    "\n",
    "subset = df[selected_columns]\n",
    "\n",
    "# Shfaqim një pjesv të nën-bashkësisë për verifikim\n",
    "print(subset.head())"
   ]
  },
  {
   "cell_type": "markdown",
   "metadata": {},
   "source": [
    "### SMOTE Algoritmi"
   ]
  },
  {
   "cell_type": "code",
   "execution_count": null,
   "metadata": {},
   "outputs": [],
   "source": [
    "# Metoda për paraqitjen e SMOTE Algoritmit\n",
    "\n",
    "def SMOTE_Algoritmi(dataseti):\n",
    "\n",
    "    def SMOTE(X, y, minority_class, k=5):\n",
    "        \"\"\"\n",
    "        :param X: numpy.ndarray or pandas.DataFrame (2D array)\n",
    "        :param y: numpy.ndarray (1D array)\n",
    "        :param minority_class: int\n",
    "        :param k: int\n",
    "        :return: np.array, np.array\n",
    "        \"\"\"\n",
    "        # Find the minority class indices\n",
    "        minority_indices = np.where(y == minority_class)[0]\n",
    "\n",
    "        # Convert DataFrame to NumPy array if necessary\n",
    "        X_array = X.to_numpy() if isinstance(X, pd.DataFrame) else X\n",
    "\n",
    "        # Find the nearest neighbors of the minority class points\n",
    "        nn = NearestNeighbors(n_neighbors=k)\n",
    "        nn.fit(X_array[minority_indices])\n",
    "        _, indices = nn.kneighbors(X_array[minority_indices])\n",
    "\n",
    "        # Generate synthetic data points\n",
    "        synthetic_data = []\n",
    "        for i in range(len(minority_indices)):\n",
    "            for j in indices[i]:\n",
    "                diff = X_array[minority_indices[j]] - X_array[minority_indices[i]]\n",
    "                synthetic_point = X_array[minority_indices[i]] + np.random.random(size=diff.shape) * diff\n",
    "                synthetic_data.append(synthetic_point)\n",
    "\n",
    "        # Concatenate the synthetic data with the original data and labels\n",
    "        X_resampled = np.concatenate((X_array, synthetic_data), axis=0)\n",
    "        Y_resampled = np.concatenate((y, np.full(len(synthetic_data), minority_class)), axis=0)\n",
    "\n",
    "        return X_resampled, Y_resampled\n",
    "\n",
    "    def pairplot(dataFrame):\n",
    "        selected_columns = ['Item Purchased', 'Category', 'Location', 'Size', 'Color', 'Season', 'Shipping Type', 'Payment Method', 'Purchase Amount (USD)']  # Update this list based on your dataset\n",
    "        if selected_columns is not None:\n",
    "            dataFrame = dataFrame[selected_columns]\n",
    "        # Create a pairplot with the target column as the hue\n",
    "        sns.pairplot(dataFrame, hue='Purchase Amount (USD)')\n",
    "\n",
    "        # Show the plot\n",
    "        plt.show()\n",
    "\n",
    "    def plot3d(dataFrame, x_feature, y_feature, z_feature):\n",
    "        # Create a 3D scatter plot\n",
    "        fig = plt.figure(figsize=(10, 7))\n",
    "        ax = fig.add_subplot(111, projection='3d')\n",
    "        \n",
    "        # Now `ax` is defined and can be used for plotting\n",
    "        scatter = ax.scatter(\n",
    "            dataFrame[x_feature], dataFrame[y_feature], dataFrame[z_feature],\n",
    "            c=dataFrame[z_feature], cmap='viridis', alpha=0.7, s=50\n",
    "        )\n",
    "        \n",
    "        # Set labels for axes\n",
    "        ax.set_xlabel(x_feature)\n",
    "        ax.set_ylabel(y_feature)\n",
    "        ax.set_zlabel(z_feature)\n",
    "\n",
    "        # Color bar indicating the scale of the z_feature\n",
    "        color_bar = fig.colorbar(scatter, ax=ax)\n",
    "        color_bar.set_label(z_feature)\n",
    "\n",
    "        # Show the plot\n",
    "        plt.show()\n",
    "\n",
    "    label_encoders = {}\n",
    "\n",
    "    for col in categorical_columns:\n",
    "        le = LabelEncoder()\n",
    "        df[col] = le.fit_transform(df[col])\n",
    "        label_encoders[col] = le\n",
    "\n",
    "    # Apply SMOTE - Assuming you want to oversample based on a particular target feature\n",
    "    # Here, let's assume 'Purchase Amount (USD)' is the target and we oversample based on a threshold\n",
    "    threshold = 50  # Example threshold, adjust as needed\n",
    "    dataseti['Target_Class'] = (dataseti['Purchase Amount (USD)'] > threshold).astype(int)\n",
    "\n",
    "    # Split the data (excluding non-feature columns like 'Customer ID')\n",
    "    feature_columns = [col for col in dataseti.columns if col not in ['Customer ID', 'Review Rating', 'Target_Class']]\n",
    "    X = dataseti[feature_columns]\n",
    "    y = dataseti['Target_Class']\n",
    "\n",
    "    # Apply SMOTE\n",
    "    k = 3  # Number of nearest neighbors\n",
    "    if np.sum(y == 1) < k:  # Assuming minority class is the one above the threshold\n",
    "        raise ValueError(\"Not enough samples of minority class for SMOTE.\")\n",
    "\n",
    "    # Assuming X is your feature DataFrame\n",
    "    imputer = SimpleImputer(strategy='mean') # Or use 'median' or 'most_frequent'\n",
    "    X_imputed = imputer.fit_transform(X)\n",
    "\n",
    "    # Now use the imputed data in SMOTE\n",
    "    if np.sum(y == 1) < k:\n",
    "        raise ValueError(\"Not enough samples of minority class for SMOTE.\")\n",
    "    # After SMOTE\n",
    "    X_resampled, Y_resampled = SMOTE(X_imputed, y, minority_class=1, k=k)\n",
    "\n",
    "    # Now, resampled_columns should match the columns in X\n",
    "    resampled_columns = feature_columns  # Directly use feature_columns list\n",
    "\n",
    "    # Create the DataFrame after SMOTE\n",
    "    FinalDataFrame = pd.DataFrame(X_resampled, columns=resampled_columns)\n",
    "    FinalDataFrame['Purchase Amount (USD)'] = Y_resampled\n",
    "\n",
    "    # Add 'SeasonNum' back to FinalDataFrame\n",
    "    FinalDataFrame['SeasonNum'] = df['SeasonNum']\n",
    "\n",
    "    # Plotting\n",
    "    pairplot(FinalDataFrame)\n",
    "    plot3d(FinalDataFrame, 'Age', 'SeasonNum', 'Purchase Amount (USD)')\n"
   ]
  },
  {
   "cell_type": "markdown",
   "metadata": {},
   "source": [
    "- Mostrimi i të dhënave"
   ]
  }
 ],
 "metadata": {
  "kernelspec": {
   "display_name": "Python 3",
   "language": "python",
   "name": "python3"
  },
  "language_info": {
   "codemirror_mode": {
    "name": "ipython",
    "version": 3
   },
   "file_extension": ".py",
   "mimetype": "text/x-python",
   "name": "python",
   "nbconvert_exporter": "python",
   "pygments_lexer": "ipython3",
   "version": "3.9.13"
  }
 },
 "nbformat": 4,
 "nbformat_minor": 2
}
